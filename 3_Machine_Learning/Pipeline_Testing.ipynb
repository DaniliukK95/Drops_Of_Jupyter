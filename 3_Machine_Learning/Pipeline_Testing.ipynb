{
 "cells": [
  {
   "cell_type": "code",
   "execution_count": 1,
   "id": "3e559832",
   "metadata": {},
   "outputs": [],
   "source": [
    "#import libraries\n",
    "import numpy as np\n",
    "import pandas as pd\n",
    "import sklearn as skl\n"
   ]
  },
  {
   "cell_type": "code",
   "execution_count": 2,
   "id": "486b1ef8",
   "metadata": {},
   "outputs": [],
   "source": [
    "# Dummy Data to Test Pipeline \n",
    "userinput = {'Prediabetes':['no'], 'Weight_Lbs':['168'], 'height':['68'], 'Age':['38'],\n",
    "       'Gender':['Female'], 'Education':['Bachelor'], 'Race':['White_Only'], 'income':['100000'], 'HHcount':['4']}"
   ]
  },
  {
   "cell_type": "code",
   "execution_count": 3,
   "id": "bb9f0f54",
   "metadata": {},
   "outputs": [
    {
     "ename": "NameError",
     "evalue": "name 'data' is not defined",
     "output_type": "error",
     "traceback": [
      "\u001b[0;31m---------------------------------------------------------------------------\u001b[0m",
      "\u001b[0;31mNameError\u001b[0m                                 Traceback (most recent call last)",
      "\u001b[0;32m/var/folders/xh/72lgbvgd2071wxffrm0kwsq80000gn/T/ipykernel_5560/3298559576.py\u001b[0m in \u001b[0;36m<module>\u001b[0;34m\u001b[0m\n\u001b[1;32m      1\u001b[0m \u001b[0;31m# create DF (is this necessary?)\u001b[0m\u001b[0;34m\u001b[0m\u001b[0;34m\u001b[0m\u001b[0;34m\u001b[0m\u001b[0m\n\u001b[0;32m----> 2\u001b[0;31m \u001b[0mdf_XX\u001b[0m \u001b[0;34m=\u001b[0m \u001b[0mpd\u001b[0m\u001b[0;34m.\u001b[0m\u001b[0mDataFrame\u001b[0m\u001b[0;34m(\u001b[0m\u001b[0mdata\u001b[0m\u001b[0;34m)\u001b[0m\u001b[0;34m\u001b[0m\u001b[0;34m\u001b[0m\u001b[0m\n\u001b[0m\u001b[1;32m      3\u001b[0m \u001b[0mdf_XX\u001b[0m\u001b[0;34m\u001b[0m\u001b[0;34m\u001b[0m\u001b[0m\n",
      "\u001b[0;31mNameError\u001b[0m: name 'data' is not defined"
     ]
    }
   ],
   "source": [
    "# create DF (is this necessary?)\n",
    "df_XX = pd.DataFrame(userinput)\n",
    "df_XX"
   ]
  },
  {
   "cell_type": "markdown",
   "id": "a752a593",
   "metadata": {},
   "source": [
    "#### Preprocessing pipeline\n",
    "* use weight and height to create BMI\n",
    "* convert BMI into Categorical_Bmi\n",
    "* drop Height \n",
    "* drop BMI\n",
    "* convert income and HHcount to Poverty_Ratio\n",
    "* drop income\n",
    "* drop HHcount \n",
    "* reorder columns to ['Prediabetes', 'Weight_Lbs', 'Categorical_BMI', 'Age','Gender', 'Education', 'Race', 'Poverty_Ratio'])\n",
    "* get dummies\n",
    "* final data should be: ['Weight_Lbs', 'Age', 'Poverty_Ratio', 'Prediabetes_no',\n",
    "       'Prediabetes_yes', 'Categorical_BMI_Healthy_Weight',\n",
    "       'Categorical_BMI_Obese', 'Categorical_BMI_Overweight',\n",
    "       'Categorical_BMI_Underweight', 'Gender_Female', 'Gender_Male',\n",
    "       'Education_12th_Grade_no_diploma',\n",
    "       'Education_Associates_Academic_Program',\n",
    "       'Education_Associates_Occupational_Technical_Vocational',\n",
    "       'Education_Bachelor', 'Education_GED_Equivalent',\n",
    "       'Education_Grade_1-11', 'Education_Greater_Than_Master',\n",
    "       'Education_High_School_Graduate', 'Education_Masters',\n",
    "       'Education_Some_College_no_degree', 'Race_AIAN_AND_other',\n",
    "       'Race_AIAN_Only', 'Race_African_American_Only', 'Race_Asian_Only',\n",
    "       'Race_Other', 'Race_White_Only']\n",
    "#should we reorder the columns for the model? should we encode the model using a different method?\n"
   ]
  },
  {
   "cell_type": "code",
   "execution_count": 4,
   "id": "bf720381",
   "metadata": {},
   "outputs": [],
   "source": [
    "## col names for df\n",
    "col_names = ['Weight_Lbs', 'Age', 'Poverty_Ratio', 'Prediabetes_no',\n",
    "       'Prediabetes_yes', 'Categorical_BMI_Healthy_Weight',\n",
    "       'Categorical_BMI_Obese', 'Categorical_BMI_Overweight',\n",
    "       'Categorical_BMI_Underweight', 'Gender_Female', 'Gender_Male',\n",
    "       'Education_12th_Grade_no_diploma',\n",
    "       'Education_Associates_Academic_Program',\n",
    "       'Education_Associates_Occupational_Technical_Vocational',\n",
    "       'Education_Bachelor', 'Education_GED_Equivalent',\n",
    "       'Education_Grade_1-11', 'Education_Greater_Than_Master',\n",
    "       'Education_High_School_Graduate', 'Education_Masters',\n",
    "       'Education_Some_College_no_degree', 'Race_AIAN_AND_other',\n",
    "       'Race_AIAN_Only', 'Race_African_American_Only', 'Race_Asian_Only',\n",
    "       'Race_Other', 'Race_White_Only']"
   ]
  },
  {
   "cell_type": "code",
   "execution_count": 5,
   "id": "dc6536c9",
   "metadata": {},
   "outputs": [
    {
     "name": "stdout",
     "output_type": "stream",
     "text": [
      "X [0. 0. 0. 0. 0. 0. 0. 0. 0. 0. 0. 0. 0. 0. 0. 0. 0. 0. 0. 0. 0. 0. 0. 0.\n",
      " 0. 0. 0.]\n"
     ]
    },
    {
     "data": {
      "text/html": [
       "<div>\n",
       "<style scoped>\n",
       "    .dataframe tbody tr th:only-of-type {\n",
       "        vertical-align: middle;\n",
       "    }\n",
       "\n",
       "    .dataframe tbody tr th {\n",
       "        vertical-align: top;\n",
       "    }\n",
       "\n",
       "    .dataframe thead th {\n",
       "        text-align: right;\n",
       "    }\n",
       "</style>\n",
       "<table border=\"1\" class=\"dataframe\">\n",
       "  <thead>\n",
       "    <tr style=\"text-align: right;\">\n",
       "      <th></th>\n",
       "      <th>Weight_Lbs</th>\n",
       "      <th>Age</th>\n",
       "      <th>Poverty_Ratio</th>\n",
       "      <th>Prediabetes_no</th>\n",
       "      <th>Prediabetes_yes</th>\n",
       "      <th>Categorical_BMI_Healthy_Weight</th>\n",
       "      <th>Categorical_BMI_Obese</th>\n",
       "      <th>Categorical_BMI_Overweight</th>\n",
       "      <th>Categorical_BMI_Underweight</th>\n",
       "      <th>Gender_Female</th>\n",
       "      <th>...</th>\n",
       "      <th>Education_Greater_Than_Master</th>\n",
       "      <th>Education_High_School_Graduate</th>\n",
       "      <th>Education_Masters</th>\n",
       "      <th>Education_Some_College_no_degree</th>\n",
       "      <th>Race_AIAN_AND_other</th>\n",
       "      <th>Race_AIAN_Only</th>\n",
       "      <th>Race_African_American_Only</th>\n",
       "      <th>Race_Asian_Only</th>\n",
       "      <th>Race_Other</th>\n",
       "      <th>Race_White_Only</th>\n",
       "    </tr>\n",
       "  </thead>\n",
       "  <tbody>\n",
       "    <tr>\n",
       "      <th>0</th>\n",
       "      <td>0.0</td>\n",
       "      <td>0.0</td>\n",
       "      <td>0.0</td>\n",
       "      <td>0.0</td>\n",
       "      <td>0.0</td>\n",
       "      <td>0.0</td>\n",
       "      <td>0.0</td>\n",
       "      <td>0.0</td>\n",
       "      <td>0.0</td>\n",
       "      <td>0.0</td>\n",
       "      <td>...</td>\n",
       "      <td>0.0</td>\n",
       "      <td>0.0</td>\n",
       "      <td>0.0</td>\n",
       "      <td>0.0</td>\n",
       "      <td>0.0</td>\n",
       "      <td>0.0</td>\n",
       "      <td>0.0</td>\n",
       "      <td>0.0</td>\n",
       "      <td>0.0</td>\n",
       "      <td>0.0</td>\n",
       "    </tr>\n",
       "  </tbody>\n",
       "</table>\n",
       "<p>1 rows × 27 columns</p>\n",
       "</div>"
      ],
      "text/plain": [
       "   Weight_Lbs  Age  Poverty_Ratio  Prediabetes_no  Prediabetes_yes  \\\n",
       "0         0.0  0.0            0.0             0.0              0.0   \n",
       "\n",
       "   Categorical_BMI_Healthy_Weight  Categorical_BMI_Obese  \\\n",
       "0                             0.0                    0.0   \n",
       "\n",
       "   Categorical_BMI_Overweight  Categorical_BMI_Underweight  Gender_Female  \\\n",
       "0                         0.0                          0.0            0.0   \n",
       "\n",
       "   ...  Education_Greater_Than_Master  Education_High_School_Graduate  \\\n",
       "0  ...                            0.0                             0.0   \n",
       "\n",
       "   Education_Masters  Education_Some_College_no_degree  Race_AIAN_AND_other  \\\n",
       "0                0.0                               0.0                  0.0   \n",
       "\n",
       "   Race_AIAN_Only  Race_African_American_Only  Race_Asian_Only  Race_Other  \\\n",
       "0             0.0                         0.0              0.0         0.0   \n",
       "\n",
       "   Race_White_Only  \n",
       "0              0.0  \n",
       "\n",
       "[1 rows x 27 columns]"
      ]
     },
     "execution_count": 5,
     "metadata": {},
     "output_type": "execute_result"
    }
   ],
   "source": [
    "X = np.zeros( len(col_names) )\n",
    "print(\"X\",X)\n",
    "df_XX = pd.DataFrame(data=[dict(zip(col_names, X) ) ] )\n",
    "df_XX"
   ]
  },
  {
   "cell_type": "code",
   "execution_count": null,
   "id": "f97ddf08",
   "metadata": {},
   "outputs": [],
   "source": [
    "    bmi =(float(df['Weight_Lbs'])/float(df['height'])/float(df['height']))*703\n",
    "    df_XX['bmi']=bmi\n",
    "    for bmi in df_XX['bmi']: \n",
    "        if bmi <= 18.5:\n",
    "             df_XX['Categorical_BMI_Underweight']=1\n",
    "        elif bmi > 18.5 and bmi < 25:\n",
    "             df_XX['Categorical_BMI_Healthy_Weight']=1\n",
    "        elif bmi >= 25 and bmi < 30:\n",
    "             df_XX['Categorical_BMI_Overweight']=1\n",
    "        else:\n",
    "             df_XX['Categorical_BMI_Obese']=1\n",
    "    df_XX = df_XX.drop(['height'], axis=1)\n",
    "    df_XX = df_XX.drop(['BMI'], axis=1)\n",
    "    df_XX['Poverty_Ratio'] = float(df['income'])/(8340+float(df['HHcount'])*4540)\n",
    "    df = df.drop(['income'], axis=1)\n",
    "    df = df.drop(['HHcount'], axis=1)"
   ]
  },
  {
   "cell_type": "code",
   "execution_count": null,
   "id": "71cf8654",
   "metadata": {},
   "outputs": [],
   "source": [
    "#df['BMI']=(float(df['Weight_Lbs'])/float(df['height'])/float(df['height']))*703\n",
    "#df\n",
    "bmi =(float(df['Weight_Lbs'])/float(df['height'])/float(df['height']))*703\n",
    "df_XX['bmi']=bmi\n",
    "for bmi in df_XX['bmi']: \n",
    "    if bmi <= 18.5:\n",
    "        df_XX['Categorical_BMI_Underweight'].replace==1\n",
    "    elif bmi > 18.5 and bmi < 25:\n",
    "        df_XX['Categorical_BMI_Healthy_Weight'].replace==1\n",
    "    elif bmi >= 25 and bmi < 30:\n",
    "        df_XX['Categorical_BMI_Overweight'].replace==1\n",
    "    else:\n",
    "        df_XX['Categorical_BMI_Obese'].replace==1\n",
    "df_XX"
   ]
  },
  {
   "cell_type": "code",
   "execution_count": null,
   "id": "152469a0",
   "metadata": {},
   "outputs": [],
   "source": [
    "df_XX['bmi']=(float(df['Weight_Lbs'])/float(df['height'])/float(df['height']))*703\n",
    "\n",
    "\n",
    "\n",
    "df_XX"
   ]
  },
  {
   "cell_type": "code",
   "execution_count": null,
   "id": "c3b5de34",
   "metadata": {},
   "outputs": [],
   "source": [
    "df = df.drop(['height'], axis=1)\n",
    "df"
   ]
  },
  {
   "cell_type": "code",
   "execution_count": null,
   "id": "5a461f4b",
   "metadata": {},
   "outputs": [],
   "source": [
    "df = df.drop(['BMI'], axis=1)"
   ]
  },
  {
   "cell_type": "code",
   "execution_count": null,
   "id": "ce8c212a",
   "metadata": {},
   "outputs": [],
   "source": [
    "df['Poverty_Ratio'] = float(df['income'])/(8340+float(df['HHcount'])*4540)\n",
    "df"
   ]
  },
  {
   "cell_type": "code",
   "execution_count": null,
   "id": "f310f933",
   "metadata": {},
   "outputs": [],
   "source": [
    "df = df.drop(['income'], axis=1)"
   ]
  },
  {
   "cell_type": "code",
   "execution_count": null,
   "id": "bbd1ad18",
   "metadata": {},
   "outputs": [],
   "source": [
    "df = df.drop(['HHcount'], axis=1)\n",
    "df"
   ]
  },
  {
   "cell_type": "code",
   "execution_count": null,
   "id": "b129d848",
   "metadata": {},
   "outputs": [],
   "source": [
    "#preXXdf=df[['Prediabetes', 'Weight_Lbs', 'Categorical_BMI', 'Age',\n",
    "       'Gender', 'Education', 'Race', 'Poverty_Ratio']]\n",
    "preXXdf"
   ]
  },
  {
   "cell_type": "code",
   "execution_count": null,
   "id": "59abedd6",
   "metadata": {},
   "outputs": [],
   "source": [
    "XXdf= pd.get_dummies(preXXdf, columns=['Prediabetes','Categorical_BMI', 'Gender', 'Education', 'Race'])\n",
    "XXdf"
   ]
  },
  {
   "cell_type": "code",
   "execution_count": null,
   "id": "b224d95b",
   "metadata": {},
   "outputs": [],
   "source": [
    "# impute 0 for all null values \n"
   ]
  },
  {
   "cell_type": "code",
   "execution_count": null,
   "id": "a03ab2dc",
   "metadata": {},
   "outputs": [],
   "source": [
    "cols=['Weight_Lbs', 'Age', 'Poverty_Ratio', 'Prediabetes_no',\n",
    "       'Prediabetes_yes', 'Categorical_BMI_Healthy_Weight',\n",
    "       'Categorical_BMI_Obese', 'Categorical_BMI_Overweight',\n",
    "       'Categorical_BMI_Underweight', 'Gender_Female', 'Gender_Male',\n",
    "       'Education_12th_Grade_no_diploma',\n",
    "       'Education_Associates_Academic_Program',\n",
    "       'Education_Associates_Occupational_Technical_Vocational',\n",
    "       'Education_Bachelor', 'Education_GED_Equivalent',\n",
    "       'Education_Grade_1-11', 'Education_Greater_Than_Master',\n",
    "       'Education_High_School_Graduate', 'Education_Masters',\n",
    "       'Education_Some_College_no_degree', 'Race_AIAN_AND_other',\n",
    "       'Race_AIAN_Only', 'Race_African_American_Only', 'Race_Asian_Only',\n",
    "       'Race_Other', 'Race_White_Only']"
   ]
  },
  {
   "cell_type": "code",
   "execution_count": null,
   "id": "5dd674a3",
   "metadata": {},
   "outputs": [],
   "source": [
    "#XXdf=pd.DataFrame.reset_index(inplace=True)\n",
    "\n",
    "newXXdf=XXdf['Weight_Lbs', 'Age', 'Poverty_Ratio', 'Prediabetes_no',\n",
    "           'Prediabetes_yes', 'Categorical_BMI_Healthy_Weight',\n",
    "           'Categorical_BMI_Obese', 'Categorical_BMI_Overweight',\n",
    "           'Categorical_BMI_Underweight', 'Gender_Female', 'Gender_Male',\n",
    "           'Education_12th_Grade_no_diploma',\n",
    "           'Education_Associates_Academic_Program',\n",
    "           'Education_Associates_Occupational_Technical_Vocational',\n",
    "           'Education_Bachelor', 'Education_GED_Equivalent',\n",
    "           'Education_Grade_1-11', 'Education_Greater_Than_Master',\n",
    "           'Education_High_School_Graduate', 'Education_Masters',\n",
    "           'Education_Some_College_no_degree', 'Race_AIAN_AND_other',\n",
    "           'Race_AIAN_Only', 'Race_African_American_Only', 'Race_Asian_Only',\n",
    "           'Race_Other', 'Race_White_Only']\n",
    "XXdf"
   ]
  },
  {
   "cell_type": "code",
   "execution_count": null,
   "id": "29b0a7c8",
   "metadata": {},
   "outputs": [],
   "source": [
    "\n",
    "    \n",
    "class BMI_Calc(BaseEstimator, TransformerMixin):\n",
    "    def fit(self, X, y=None):\n",
    "        return self\n",
    "    def transform(self, X):\n",
    "\n",
    "    \n",
    "class NameDropper(BaseEstimator, TransformerMixin)\n",
    "    def fit(self, X, y=None):\n",
    "        return self\n",
    "    def transform(self, X):\n",
    "        return X.drop(['height'], axis=1)"
   ]
  },
  {
   "cell_type": "code",
   "execution_count": null,
   "id": "80f0e889",
   "metadata": {},
   "outputs": [],
   "source": [
    "def BMI_Calc(Weight_Lbs, height):\n",
    "    BMI = float(Weight_Lbs/height/height)*703\n",
    "    if bmi <= 18.5:\n",
    "        return df_XX['Categorical_BMI_Underweight']==1\n",
    "    elif bmi > 18.5 and bmi < 25:\n",
    "        return df_XX['Categorical_BMI_Healthy_Weight']==1\n",
    "    elif bmi >= 25 and bmi < 30:\n",
    "        return df_XX['Categorical_BMI_Overweight']==1\n",
    "    else:\n",
    "        return df_XX['Categorical_BMI_Obese']==1"
   ]
  },
  {
   "cell_type": "code",
   "execution_count": null,
   "id": "0616a8e2",
   "metadata": {},
   "outputs": [],
   "source": []
  },
  {
   "cell_type": "code",
   "execution_count": null,
   "id": "a350da87",
   "metadata": {},
   "outputs": [],
   "source": [
    "def poverty_calc(income, HHcount):\n",
    "    Poverty_Ratio = income/(8340+(HHcount*4540))\n",
    "    return Poverty_Ratio"
   ]
  },
  {
   "cell_type": "code",
   "execution_count": null,
   "id": "eb22bd4b",
   "metadata": {},
   "outputs": [],
   "source": []
  },
  {
   "cell_type": "code",
   "execution_count": null,
   "id": "a1dad986",
   "metadata": {},
   "outputs": [],
   "source": []
  }
 ],
 "metadata": {
  "kernelspec": {
   "display_name": "mlenv",
   "language": "python",
   "name": "mlenv"
  },
  "language_info": {
   "codemirror_mode": {
    "name": "ipython",
    "version": 3
   },
   "file_extension": ".py",
   "mimetype": "text/x-python",
   "name": "python",
   "nbconvert_exporter": "python",
   "pygments_lexer": "ipython3",
   "version": "3.7.13 (default, Mar 28 2022, 07:24:34) \n[Clang 12.0.0 ]"
  }
 },
 "nbformat": 4,
 "nbformat_minor": 5
}
